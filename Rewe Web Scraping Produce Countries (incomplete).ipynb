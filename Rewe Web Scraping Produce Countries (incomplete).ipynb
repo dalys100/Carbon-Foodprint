{
 "cells": [
  {
   "cell_type": "code",
   "execution_count": 1,
   "id": "82376a88",
   "metadata": {},
   "outputs": [],
   "source": [
    "pathfile = \"./Rewe-produce-complete/\""
   ]
  },
  {
   "cell_type": "code",
   "execution_count": 2,
   "id": "016456ee",
   "metadata": {
    "scrolled": true
   },
   "outputs": [
    {
     "name": "stdout",
     "output_type": "stream",
     "text": [
      "192\n"
     ]
    }
   ],
   "source": [
    "import os\n",
    "\n",
    "counter = 0\n",
    "\n",
    "for filename in os.listdir(pathfile):\n",
    "    counter += 1\n",
    "    \n",
    "print(counter)"
   ]
  },
  {
   "cell_type": "code",
   "execution_count": 3,
   "id": "fb082b79",
   "metadata": {},
   "outputs": [],
   "source": [
    "import pandas as pd\n",
    "from bs4 import BeautifulSoup\n",
    "import numpy as np\n",
    "import re"
   ]
  },
  {
   "cell_type": "code",
   "execution_count": 4,
   "id": "47b9fe9c",
   "metadata": {},
   "outputs": [],
   "source": [
    "Productnameclass = \"pdpr-Title\"\n",
    "Productidclass = \"pdpr-ArticleNumber\"\n",
    "Producttextclass = \"pdpr-ReadMore\""
   ]
  },
  {
   "cell_type": "code",
   "execution_count": 5,
   "id": "86f6d8c8",
   "metadata": {},
   "outputs": [
    {
     "data": {
      "text/html": [
       "<div>\n",
       "<style scoped>\n",
       "    .dataframe tbody tr th:only-of-type {\n",
       "        vertical-align: middle;\n",
       "    }\n",
       "\n",
       "    .dataframe tbody tr th {\n",
       "        vertical-align: top;\n",
       "    }\n",
       "\n",
       "    .dataframe thead th {\n",
       "        text-align: right;\n",
       "    }\n",
       "</style>\n",
       "<table border=\"1\" class=\"dataframe\">\n",
       "  <thead>\n",
       "    <tr style=\"text-align: right;\">\n",
       "      <th></th>\n",
       "      <th>Produkt ID</th>\n",
       "      <th>Produktname</th>\n",
       "      <th>Produkttext</th>\n",
       "    </tr>\n",
       "  </thead>\n",
       "  <tbody>\n",
       "  </tbody>\n",
       "</table>\n",
       "</div>"
      ],
      "text/plain": [
       "Empty DataFrame\n",
       "Columns: [Produkt ID, Produktname, Produkttext]\n",
       "Index: []"
      ]
     },
     "execution_count": 5,
     "metadata": {},
     "output_type": "execute_result"
    }
   ],
   "source": [
    "ProductDataFrame = pd.DataFrame(columns=[\"Produkt ID\",\"Produktname\",\"Produkttext\"])\n",
    "\n",
    "ProductDataFrame"
   ]
  },
  {
   "cell_type": "code",
   "execution_count": 6,
   "id": "5f23e0bd",
   "metadata": {},
   "outputs": [],
   "source": [
    "#Leeren großen Frame erstellen\n",
    "ProductDataFrame = pd.DataFrame(columns=[\"Produkt ID\",\"Produktname\",\"Produkttext\"])\n",
    "\n",
    "\n",
    "for filename in os.listdir(pathfile): \n",
    "    soup = BeautifulSoup(open(pathfile+filename,encoding='utf-8').read())\n",
    "    \n",
    "    Id = (soup.find(class_=Productidclass).string)\n",
    "    Name = (soup.find(class_=Productnameclass).string)\n",
    "    try:\n",
    "        Text1 = (soup.find(class_=Producttextclass).text)\n",
    "        Text2 = Text1.split(\";\")[0]\n",
    "        Text3 = Text2.split(\":\")[0]\n",
    "        Text = Text3.split()\n",
    "                \n",
    "    except:\n",
    "        Text = \"leer\"\n",
    "        \n",
    "\n",
    "    #Dataframe für das einzelne Produkt\n",
    "    tempDataFrame = pd.DataFrame([[Id,Name,Text]],columns=[\"Produkt ID\",\"Produktname\",\"Produkttext\"]) \n",
    "    #Der einzelframe wird an das große angehängt\n",
    "    ProductDataFrame = ProductDataFrame.append(tempDataFrame)\n",
    "    \n",
    "ProductDataFrame = ProductDataFrame[ProductDataFrame.Produkttext != 'leer']\n",
    "#ProductDataFrame = ProductDataFrame[ProductDataFrame['Produkttext'].Text.len().lt(11)]\n",
    "ProductDataFrame.reset_index(drop=True, inplace=True)\n",
    "ProductDataFrame.index = ProductDataFrame.index + 1"
   ]
  },
  {
   "cell_type": "code",
   "execution_count": 7,
   "id": "2c182827",
   "metadata": {
    "scrolled": true
   },
   "outputs": [],
   "source": [
    "soup = BeautifulSoup(open(pathfile+'25267.html',encoding='utf-8').read())\n",
    "    \n",
    "Id = (soup.find(class_=Productidclass).string)\n",
    "Name = (soup.find(class_=Productnameclass).string)\n",
    "try:\n",
    "    Text1 = (soup.find(class_=Producttextclass).text)\n",
    "    Text2 = Text1.split(\";\")[0]\n",
    "    Text3 = Text2.split(\":\")[0]\n",
    "    Text = Text3.split()\n",
    "                \n",
    "except:\n",
    "    Text = \"leer\""
   ]
  },
  {
   "cell_type": "code",
   "execution_count": 8,
   "id": "58a6994b",
   "metadata": {},
   "outputs": [
    {
     "data": {
      "text/html": [
       "<div>\n",
       "<style scoped>\n",
       "    .dataframe tbody tr th:only-of-type {\n",
       "        vertical-align: middle;\n",
       "    }\n",
       "\n",
       "    .dataframe tbody tr th {\n",
       "        vertical-align: top;\n",
       "    }\n",
       "\n",
       "    .dataframe thead th {\n",
       "        text-align: right;\n",
       "    }\n",
       "</style>\n",
       "<table border=\"1\" class=\"dataframe\">\n",
       "  <thead>\n",
       "    <tr style=\"text-align: right;\">\n",
       "      <th></th>\n",
       "      <th>Produkt ID</th>\n",
       "      <th>Produktname</th>\n",
       "      <th>Produkttext</th>\n",
       "    </tr>\n",
       "  </thead>\n",
       "  <tbody>\n",
       "    <tr>\n",
       "      <th>1</th>\n",
       "      <td>Artikelnummer 1165418</td>\n",
       "      <td>Florette Süß &amp; Knusprig Roter Kopfsalat 100g</td>\n",
       "      <td>[Roter, Kopfsalat.]</td>\n",
       "    </tr>\n",
       "    <tr>\n",
       "      <th>2</th>\n",
       "      <td>Artikelnummer 7294456</td>\n",
       "      <td>REWE Bio Blattspinat 100g</td>\n",
       "      <td>[Italien]</td>\n",
       "    </tr>\n",
       "    <tr>\n",
       "      <th>3</th>\n",
       "      <td>Artikelnummer 1902930</td>\n",
       "      <td>Prinzessbohnen 200g</td>\n",
       "      <td>[Äthiopien,Marokko,, Senegal,, Ruanda, oder, K...</td>\n",
       "    </tr>\n",
       "    <tr>\n",
       "      <th>4</th>\n",
       "      <td>Artikelnummer 2577507</td>\n",
       "      <td>REWE Bio Zucchini 500g</td>\n",
       "      <td>[Spanien]</td>\n",
       "    </tr>\n",
       "    <tr>\n",
       "      <th>5</th>\n",
       "      <td>Artikelnummer 7180293</td>\n",
       "      <td>REWE Bio Rote Beete gekocht Bio 500g</td>\n",
       "      <td>[Deutschland]</td>\n",
       "    </tr>\n",
       "    <tr>\n",
       "      <th>...</th>\n",
       "      <td>...</td>\n",
       "      <td>...</td>\n",
       "      <td>...</td>\n",
       "    </tr>\n",
       "    <tr>\n",
       "      <th>173</th>\n",
       "      <td>Artikelnummer 22241</td>\n",
       "      <td>Kiwi gold</td>\n",
       "      <td>[Neuseeland]</td>\n",
       "    </tr>\n",
       "    <tr>\n",
       "      <th>174</th>\n",
       "      <td>Artikelnummer 8114415</td>\n",
       "      <td>REWE Bio Zuckermais vakuumiert 400g</td>\n",
       "      <td>[Deutschland]</td>\n",
       "    </tr>\n",
       "    <tr>\n",
       "      <th>175</th>\n",
       "      <td>Artikelnummer 7152588</td>\n",
       "      <td>REWE Bio Blumenkohl</td>\n",
       "      <td>[Spanien]</td>\n",
       "    </tr>\n",
       "    <tr>\n",
       "      <th>176</th>\n",
       "      <td>Artikelnummer 3402061</td>\n",
       "      <td>REWE Bio Mango</td>\n",
       "      <td>[Ecuador,, Spanien,, Brasilien, oder, Peru]</td>\n",
       "    </tr>\n",
       "    <tr>\n",
       "      <th>177</th>\n",
       "      <td>Artikelnummer 483010</td>\n",
       "      <td>Karottenbund mit Grün</td>\n",
       "      <td>[Italien]</td>\n",
       "    </tr>\n",
       "  </tbody>\n",
       "</table>\n",
       "<p>177 rows × 3 columns</p>\n",
       "</div>"
      ],
      "text/plain": [
       "                Produkt ID                                   Produktname  \\\n",
       "1    Artikelnummer 1165418  Florette Süß & Knusprig Roter Kopfsalat 100g   \n",
       "2    Artikelnummer 7294456                     REWE Bio Blattspinat 100g   \n",
       "3    Artikelnummer 1902930                           Prinzessbohnen 200g   \n",
       "4    Artikelnummer 2577507                        REWE Bio Zucchini 500g   \n",
       "5    Artikelnummer 7180293          REWE Bio Rote Beete gekocht Bio 500g   \n",
       "..                     ...                                           ...   \n",
       "173    Artikelnummer 22241                                     Kiwi gold   \n",
       "174  Artikelnummer 8114415           REWE Bio Zuckermais vakuumiert 400g   \n",
       "175  Artikelnummer 7152588                           REWE Bio Blumenkohl   \n",
       "176  Artikelnummer 3402061                                REWE Bio Mango   \n",
       "177   Artikelnummer 483010                         Karottenbund mit Grün   \n",
       "\n",
       "                                           Produkttext  \n",
       "1                                  [Roter, Kopfsalat.]  \n",
       "2                                            [Italien]  \n",
       "3    [Äthiopien,Marokko,, Senegal,, Ruanda, oder, K...  \n",
       "4                                            [Spanien]  \n",
       "5                                        [Deutschland]  \n",
       "..                                                 ...  \n",
       "173                                       [Neuseeland]  \n",
       "174                                      [Deutschland]  \n",
       "175                                          [Spanien]  \n",
       "176        [Ecuador,, Spanien,, Brasilien, oder, Peru]  \n",
       "177                                          [Italien]  \n",
       "\n",
       "[177 rows x 3 columns]"
      ]
     },
     "execution_count": 8,
     "metadata": {},
     "output_type": "execute_result"
    }
   ],
   "source": [
    "ProductDataFrame"
   ]
  },
  {
   "cell_type": "code",
   "execution_count": null,
   "id": "eb548423",
   "metadata": {
    "scrolled": true
   },
   "outputs": [],
   "source": []
  },
  {
   "cell_type": "code",
   "execution_count": 9,
   "id": "3d6aff71",
   "metadata": {},
   "outputs": [
    {
     "name": "stdout",
     "output_type": "stream",
     "text": [
      "Requirement already satisfied: country_list in ./opt/anaconda3/lib/python3.8/site-packages (1.0.0)\n",
      "\u001b[33mWARNING: You are using pip version 22.0.2; however, version 22.0.3 is available.\n",
      "You should consider upgrading via the '/Users/viviennesimunec1/opt/anaconda3/bin/python -m pip install --upgrade pip' command.\u001b[0m\u001b[33m\n",
      "\u001b[0mNote: you may need to restart the kernel to use updated packages.\n"
     ]
    }
   ],
   "source": [
    "pip install country_list"
   ]
  },
  {
   "cell_type": "code",
   "execution_count": 10,
   "id": "c95582bb",
   "metadata": {
    "scrolled": true
   },
   "outputs": [],
   "source": [
    "from country_list import available_languages"
   ]
  },
  {
   "cell_type": "code",
   "execution_count": 11,
   "id": "09e9c493",
   "metadata": {
    "scrolled": true
   },
   "outputs": [],
   "source": [
    "from country_list import countries_for_language\n",
    "# countries_for_language returns a list of tuples now, might be changed to an OrderedDict\n",
    "countries = dict(countries_for_language('de'))"
   ]
  },
  {
   "cell_type": "code",
   "execution_count": 12,
   "id": "4c74ee89",
   "metadata": {},
   "outputs": [],
   "source": [
    "CountriesList = list(countries.values())"
   ]
  },
  {
   "cell_type": "code",
   "execution_count": 13,
   "id": "5135745c",
   "metadata": {},
   "outputs": [],
   "source": [
    "#funktioniert nur mit einem Value in 'Produkttext'\n",
    "#ProductDataFrame_dropped = ProductDataFrame[ProductDataFrame['Produkttext'].isin(CountriesList)]\n",
    "\n",
    "#ProductDataFrame_dropped"
   ]
  },
  {
   "cell_type": "code",
   "execution_count": 14,
   "id": "5bc6aabe",
   "metadata": {},
   "outputs": [
    {
     "data": {
      "text/plain": [
       "1     NaN\n",
       "2     NaN\n",
       "3     NaN\n",
       "4     NaN\n",
       "5     NaN\n",
       "       ..\n",
       "173   NaN\n",
       "174   NaN\n",
       "175   NaN\n",
       "176   NaN\n",
       "177   NaN\n",
       "Name: Produkttext, Length: 177, dtype: float64"
      ]
     },
     "execution_count": 14,
     "metadata": {},
     "output_type": "execute_result"
    }
   ],
   "source": [
    "ProductDataFrame1 = ProductDataFrame['Produkttext'].str.split(r'[\\s,]+').explode()\n",
    "\n",
    "\n",
    "ProductDataFrame1"
   ]
  },
  {
   "cell_type": "code",
   "execution_count": 15,
   "id": "1ad1c99b",
   "metadata": {},
   "outputs": [],
   "source": [
    "#ProductDataFrame = ProductDataFrame[ProductDataFrame.ne('oder')]\n",
    "\n",
    "#ProductDataFrame"
   ]
  },
  {
   "cell_type": "code",
   "execution_count": 16,
   "id": "f3b3692d",
   "metadata": {},
   "outputs": [],
   "source": [
    "#ProductDataFrame = ProductDataFrame[ProductDataFrame['Produkttext'.isin(CountriesList)"
   ]
  }
 ],
 "metadata": {
  "kernelspec": {
   "display_name": "Python 3",
   "language": "python",
   "name": "python3"
  },
  "language_info": {
   "codemirror_mode": {
    "name": "ipython",
    "version": 3
   },
   "file_extension": ".py",
   "mimetype": "text/x-python",
   "name": "python",
   "nbconvert_exporter": "python",
   "pygments_lexer": "ipython3",
   "version": "3.8.8"
  }
 },
 "nbformat": 4,
 "nbformat_minor": 5
}
